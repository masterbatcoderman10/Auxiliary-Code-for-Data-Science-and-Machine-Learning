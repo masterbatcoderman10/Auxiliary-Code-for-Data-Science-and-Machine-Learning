{
 "cells": [
  {
   "cell_type": "markdown",
   "id": "ba95b9bd",
   "metadata": {},
   "source": [
    "## File Seperator\n",
    "\n",
    "This is a utility class which can be used to seperate an image dataset which contains folders pertaining to all the classes in the dataset, into train, test and validation directory which can then be used to create tf.datasets using keras' image_dataset_from_directory."
   ]
  },
  {
   "cell_type": "code",
   "execution_count": 2,
   "id": "8a55b38e",
   "metadata": {},
   "outputs": [],
   "source": [
    "import os\n",
    "import pathlib\n",
    "import shutil\n",
    "from random import shuffle\n",
    "from tensorflow import keras\n",
    "import numpy as np"
   ]
  },
  {
   "cell_type": "code",
   "execution_count": null,
   "id": "41fb727d",
   "metadata": {},
   "outputs": [],
   "source": []
  },
  {
   "cell_type": "code",
   "execution_count": 9,
   "id": "23dafff0",
   "metadata": {},
   "outputs": [],
   "source": [
    "class FileSeperator:\n",
    "    \n",
    "    def __init__(self, main_path, original_dir):\n",
    "        self.main_path = main_path\n",
    "        \n",
    "        self.original_dir = original_dir\n",
    "        \n",
    "    def dataset_segregate(self):\n",
    "        \n",
    "        #This function is used to create empty train, test, and validation directories within the main directory\n",
    "        for typ in [\"Train\", \"Test\", \"Valid\"]:\n",
    "            path = self.main_path + \"/\" + typ\n",
    "            os.makedirs(path)\n",
    "    \n",
    "    def class_maker(self):\n",
    "        \n",
    "        #This function makes a directories within the train, test, and validation directories for each class in the datset.\n",
    "        for typ in os.listdir(self.main_path):\n",
    "            for section in os.listdir(self.original_dir):\n",
    "                path = self.main_path + \"/\" + typ + \"/\" + section\n",
    "                os.makedirs(path)\n",
    "                \n",
    "    def file_mover(self, train_pr, valid_pr):\n",
    "        \n",
    "        #This function is the most important function. This moves all the files from the origianal directory into the target directories with the proportions for train, test and validation data.\n",
    "        \n",
    "        for dir in os.listdir(self.main_path):\n",
    "            print(f\"Moving to dir: {dir}\")\n",
    "            for section in os.listdir(self.original_dir):\n",
    "                if dir == \"Train\":\n",
    "                    start_point = 0\n",
    "                    end_point = int(train_pr * len(os.listdir(f\"{self.original_dir}/{section}\")))\n",
    "                elif dir == \"Valid\":\n",
    "                    start_point = int(train_pr * len(os.listdir(f\"{self.original_dir}/{section}\")))\n",
    "                    end_point = start_point + int(valid_pr * len(os.listdir(f\"{self.original_dir}/{section}\")))\n",
    "                else:\n",
    "                    test_pr = train_pr + valid_pr\n",
    "                    start_point = int(test_pr * len(os.listdir(f\"{self.original_dir}/{section}\")))\n",
    "                    end_point = len(os.listdir(f\"{self.original_dir}/{section}\"))\n",
    "        \n",
    "                moveables = os.listdir(f\"{self.original_dir}/{section}\")\n",
    "                for i in range(start_point, end_point):\n",
    "                    shutil.copy(f\"{self.original_dir}/{section}/{moveables[i]}\", f\"{self.main_path}/{dir}/{section}/{moveables[i]}\")\n",
    "                    \n",
    "    def print_statistics(self):\n",
    "        \n",
    "        for dir in os.listdir(self.main_path):\n",
    "    \n",
    "            for section in os.listdir(self.original_dir):\n",
    "                num = len(os.listdir(f\"{self.main_path}/{dir}/{section}\"))\n",
    "                print(f\"Files in {dir} -> {section} Directory : {num}\")\n",
    "            print(\" \")\n",
    "            \n",
    "    \n",
    "    def run(self):\n",
    "        \n",
    "        self.dataset_segregate()\n",
    "        self.class_maker()\n",
    "        \n",
    "        train_pr = float(input(\"Please input training proportion :\"))\n",
    "        valid_pr = float(input(\"Please input validation proportion :\"))\n",
    "        \n",
    "        self.file_mover(train_pr=train_pr, valid_pr=valid_pr)\n",
    "        \n",
    "        \n",
    "        \n",
    "        \n"
   ]
  },
  {
   "cell_type": "code",
   "execution_count": null,
   "id": "4cbaab34",
   "metadata": {},
   "outputs": [],
   "source": []
  }
 ],
 "metadata": {
  "hide_input": false,
  "kernelspec": {
   "display_name": "Python 3 (ipykernel)",
   "language": "python",
   "name": "python3"
  },
  "language_info": {
   "codemirror_mode": {
    "name": "ipython",
    "version": 3
   },
   "file_extension": ".py",
   "mimetype": "text/x-python",
   "name": "python",
   "nbconvert_exporter": "python",
   "pygments_lexer": "ipython3",
   "version": "3.7.11"
  }
 },
 "nbformat": 4,
 "nbformat_minor": 5
}
